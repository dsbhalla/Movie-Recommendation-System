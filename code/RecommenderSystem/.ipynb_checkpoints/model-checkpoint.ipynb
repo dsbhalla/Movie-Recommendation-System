{
 "cells": [
  {
   "cell_type": "code",
   "execution_count": 2,
   "id": "0145672a",
   "metadata": {},
   "outputs": [
    {
     "name": "stdout",
     "output_type": "stream",
     "text": [
      "Requirement already satisfied: pandas in /Users/masoodahmad/miniconda3/envs/tensorflow_env/lib/python3.9/site-packages (2.0.0)\n",
      "Requirement already satisfied: tzdata>=2022.1 in /Users/masoodahmad/miniconda3/envs/tensorflow_env/lib/python3.9/site-packages (from pandas) (2023.3)\n",
      "Requirement already satisfied: numpy>=1.20.3 in /Users/masoodahmad/miniconda3/envs/tensorflow_env/lib/python3.9/site-packages (from pandas) (1.23.5)\n",
      "Requirement already satisfied: python-dateutil>=2.8.2 in /Users/masoodahmad/miniconda3/envs/tensorflow_env/lib/python3.9/site-packages (from pandas) (2.8.2)\n",
      "Requirement already satisfied: pytz>=2020.1 in /Users/masoodahmad/miniconda3/envs/tensorflow_env/lib/python3.9/site-packages (from pandas) (2023.3)\n",
      "Requirement already satisfied: six>=1.5 in /Users/masoodahmad/miniconda3/envs/tensorflow_env/lib/python3.9/site-packages (from python-dateutil>=2.8.2->pandas) (1.16.0)\n"
     ]
    }
   ],
   "source": [
    "!pip install pandas"
   ]
  },
  {
   "cell_type": "code",
   "execution_count": 3,
   "id": "66773dc6",
   "metadata": {},
   "outputs": [
    {
     "name": "stderr",
     "output_type": "stream",
     "text": [
      "2023-04-25 22:20:58.196173: I tensorflow/core/platform/cpu_feature_guard.cc:182] This TensorFlow binary is optimized to use available CPU instructions in performance-critical operations.\n",
      "To enable the following instructions: AVX2 FMA, in other operations, rebuild TensorFlow with the appropriate compiler flags.\n"
     ]
    }
   ],
   "source": [
    "import tensorflow as tf\n",
    "import numpy as np\n",
    "import pandas as pd"
   ]
  },
  {
   "cell_type": "code",
   "execution_count": 7,
   "id": "7be5e9e7",
   "metadata": {},
   "outputs": [
    {
     "name": "stdout",
     "output_type": "stream",
     "text": [
      "Number of moveies: 9724\n",
      "Number of users: 610\n"
     ]
    },
    {
     "data": {
      "text/plain": [
       "193609"
      ]
     },
     "execution_count": 7,
     "metadata": {},
     "output_type": "execute_result"
    }
   ],
   "source": [
    "ratings_df = pd.read_csv(\"../../data/ratings.csv\")\n",
    "num_movie = len(ratings_df.movieId.unique())\n",
    "num_user = len(ratings_df.userId.unique())\n",
    "print(\"Number of moveies: \" + str(num_movie)) \n",
    "print(\"Number of users: \" + str(num_user))\n",
    "max(ratings_df['movieId'])"
   ]
  },
  {
   "cell_type": "code",
   "execution_count": 8,
   "id": "1a9b09fc",
   "metadata": {},
   "outputs": [
    {
     "name": "stdout",
     "output_type": "stream",
     "text": [
      "Train dataframe shape: (80668, 4)\n",
      "Test dataframe shape: (19367, 4)\n"
     ]
    }
   ],
   "source": [
    "from sklearn.model_selection import train_test_split\n",
    "\n",
    "# split the dataset into train and test sets\n",
    "train_df, test_df = train_test_split(ratings_df, test_size=0.2, random_state=42, stratify=ratings_df['userId'])\n",
    "\n",
    "train_users = train_df['userId'].unique()\n",
    "train_movies = train_df['movieId'].unique()\n",
    "\n",
    "test_df = test_df[test_df['userId'].isin(train_users)]\n",
    "test_df = test_df[test_df['movieId'].isin(train_movies)]\n",
    "\n",
    "print(\"Train dataframe shape:\", train_df.shape)\n",
    "print(\"Test dataframe shape:\", test_df.shape)"
   ]
  },
  {
   "cell_type": "code",
   "execution_count": 9,
   "id": "cea6927b",
   "metadata": {},
   "outputs": [
    {
     "name": "stdout",
     "output_type": "stream",
     "text": [
      "Number of users: 610\n",
      "Number of moveies: 8977\n"
     ]
    }
   ],
   "source": [
    "unique_movies = train_df.movieId.unique()\n",
    "unique_users = train_df.userId.unique()\n",
    "num_movies = len(unique_movies)\n",
    "num_users = len(unique_users)\n",
    "print(\"Number of users: \" + str(num_users))\n",
    "print(\"Number of moveies: \" + str(num_movies)) "
   ]
  },
  {
   "cell_type": "code",
   "execution_count": 10,
   "id": "3e664284",
   "metadata": {},
   "outputs": [
    {
     "data": {
      "text/html": [
       "<div>\n",
       "<style scoped>\n",
       "    .dataframe tbody tr th:only-of-type {\n",
       "        vertical-align: middle;\n",
       "    }\n",
       "\n",
       "    .dataframe tbody tr th {\n",
       "        vertical-align: top;\n",
       "    }\n",
       "\n",
       "    .dataframe thead th {\n",
       "        text-align: right;\n",
       "    }\n",
       "</style>\n",
       "<table border=\"1\" class=\"dataframe\">\n",
       "  <thead>\n",
       "    <tr style=\"text-align: right;\">\n",
       "      <th></th>\n",
       "      <th>userId</th>\n",
       "      <th>movieId</th>\n",
       "      <th>rating</th>\n",
       "      <th>timestamp</th>\n",
       "      <th>movieIndex</th>\n",
       "      <th>userIndex</th>\n",
       "    </tr>\n",
       "  </thead>\n",
       "  <tbody>\n",
       "    <tr>\n",
       "      <th>21452</th>\n",
       "      <td>140</td>\n",
       "      <td>4234</td>\n",
       "      <td>3.0</td>\n",
       "      <td>1012505945</td>\n",
       "      <td>0</td>\n",
       "      <td>0</td>\n",
       "    </tr>\n",
       "    <tr>\n",
       "      <th>22899</th>\n",
       "      <td>156</td>\n",
       "      <td>2080</td>\n",
       "      <td>1.0</td>\n",
       "      <td>951113118</td>\n",
       "      <td>1</td>\n",
       "      <td>1</td>\n",
       "    </tr>\n",
       "    <tr>\n",
       "      <th>58090</th>\n",
       "      <td>380</td>\n",
       "      <td>182639</td>\n",
       "      <td>4.0</td>\n",
       "      <td>1536874706</td>\n",
       "      <td>2</td>\n",
       "      <td>2</td>\n",
       "    </tr>\n",
       "    <tr>\n",
       "      <th>79604</th>\n",
       "      <td>495</td>\n",
       "      <td>5254</td>\n",
       "      <td>3.5</td>\n",
       "      <td>1458636268</td>\n",
       "      <td>3</td>\n",
       "      <td>3</td>\n",
       "    </tr>\n",
       "    <tr>\n",
       "      <th>100382</th>\n",
       "      <td>610</td>\n",
       "      <td>69134</td>\n",
       "      <td>3.0</td>\n",
       "      <td>1493848172</td>\n",
       "      <td>4</td>\n",
       "      <td>4</td>\n",
       "    </tr>\n",
       "  </tbody>\n",
       "</table>\n",
       "</div>"
      ],
      "text/plain": [
       "        userId  movieId  rating   timestamp  movieIndex  userIndex\n",
       "21452      140     4234     3.0  1012505945           0          0\n",
       "22899      156     2080     1.0   951113118           1          1\n",
       "58090      380   182639     4.0  1536874706           2          2\n",
       "79604      495     5254     3.5  1458636268           3          3\n",
       "100382     610    69134     3.0  1493848172           4          4"
      ]
     },
     "execution_count": 10,
     "metadata": {},
     "output_type": "execute_result"
    }
   ],
   "source": [
    "movieId_map = {unique_movies[i] : i for i in range(len(unique_movies))}\n",
    "userId_map = {unique_users[i] : i for i in range(len(unique_users))}\n",
    "\n",
    "train_df['movieIndex'] = train_df['movieId'].map(movieId_map)\n",
    "test_df['movieIndex'] = test_df['movieId'].map(movieId_map)\n",
    "\n",
    "train_df['userIndex'] = train_df['userId'].map(userId_map)\n",
    "test_df['userIndex'] = test_df['userId'].map(userId_map)\n",
    "\n",
    "movie_map = { i : unique_movies[i] for i in range(len(unique_movies))}\n",
    "user_map = { i : unique_users[i]  for i in range(len(unique_users))}\n",
    "\n",
    "train_df.head()"
   ]
  },
  {
   "cell_type": "code",
   "execution_count": 11,
   "id": "0ace158f",
   "metadata": {},
   "outputs": [
    {
     "name": "stdout",
     "output_type": "stream",
     "text": [
      "Model: \"model\"\n",
      "__________________________________________________________________________________________________\n",
      " Layer (type)                   Output Shape         Param #     Connected to                     \n",
      "==================================================================================================\n",
      " User Input (InputLayer)        [(None, 1)]          0           []                               \n",
      "                                                                                                  \n",
      " Movie Input (InputLayer)       [(None, 1)]          0           []                               \n",
      "                                                                                                  \n",
      " User_Embedding_Layer (Embeddin  (None, 1, 50)       30500       ['User Input[0][0]']             \n",
      " g)                                                                                               \n",
      "                                                                                                  \n",
      " Movie_Embedding_Layer (Embeddi  (None, 1, 50)       448850      ['Movie Input[0][0]']            \n",
      " ng)                                                                                              \n",
      "                                                                                                  \n",
      " flatten_user (Flatten)         (None, 50)           0           ['User_Embedding_Layer[0][0]']   \n",
      "                                                                                                  \n",
      " flatten_movie (Flatten)        (None, 50)           0           ['Movie_Embedding_Layer[0][0]']  \n",
      "                                                                                                  \n",
      " concatenate (Concatenate)      (None, 100)          0           ['flatten_user[0][0]',           \n",
      "                                                                  'flatten_movie[0][0]']          \n",
      "                                                                                                  \n",
      " dropout (Dropout)              (None, 100)          0           ['concatenate[0][0]']            \n",
      "                                                                                                  \n",
      " dense_layer (Dense)            (None, 40)           4040        ['dropout[0][0]']                \n",
      "                                                                                                  \n",
      " output (Dense)                 (None, 1)            41          ['dense_layer[0][0]']            \n",
      "                                                                                                  \n",
      "==================================================================================================\n",
      "Total params: 483,431\n",
      "Trainable params: 483,431\n",
      "Non-trainable params: 0\n",
      "__________________________________________________________________________________________________\n"
     ]
    }
   ],
   "source": [
    "latent_dimensions = 50\n",
    "\n",
    "input_user = tf.keras.Input(shape=[1],name='User Input')\n",
    "input_movie = tf.keras.Input(shape=[1],name = 'Movie Input')\n",
    "\n",
    "\n",
    "user_embedding_layer = tf.keras.layers.Embedding(num_users,latent_dimensions,name = 'User_Embedding_Layer')(input_user)\n",
    "movie_embedding_layer = tf.keras.layers.Embedding(num_movies,latent_dimensions,name='Movie_Embedding_Layer')(input_movie)\n",
    "\n",
    "user_vec = tf.keras.layers.Flatten(name='flatten_user')(user_embedding_layer)\n",
    "movie_vec = tf.keras.layers.Flatten(name='flatten_movie')(movie_embedding_layer)\n",
    "\n",
    "\n",
    "concat_layer = tf.keras.layers.concatenate([user_vec,movie_vec])\n",
    "concat_layer_dropout = tf.keras.layers.Dropout(0.2)(concat_layer)\n",
    "\n",
    "dense_layer = tf.keras.layers.Dense(40, activation='relu', name='dense_layer')(concat_layer_dropout)\n",
    "output = tf.keras.layers.Dense(1,activation='relu', name='output')(dense_layer)\n",
    "\n",
    "model = tf.keras.Model([input_user,input_movie], output)\n",
    "model.summary()\n"
   ]
  },
  {
   "cell_type": "code",
   "execution_count": 913,
   "id": "94599511",
   "metadata": {},
   "outputs": [
    {
     "name": "stdout",
     "output_type": "stream",
     "text": [
      "Epoch 1/20\n",
      "316/316 [==============================] - 9s 3ms/step - loss: 2.1840 - mean_absolute_error: 1.0646\n",
      "Epoch 2/20\n",
      "316/316 [==============================] - 1s 3ms/step - loss: 0.7726 - mean_absolute_error: 0.6798\n",
      "Epoch 3/20\n",
      "316/316 [==============================] - 1s 3ms/step - loss: 0.7323 - mean_absolute_error: 0.6588\n",
      "Epoch 4/20\n",
      "316/316 [==============================] - 1s 3ms/step - loss: 0.7044 - mean_absolute_error: 0.6449\n",
      "Epoch 5/20\n",
      "316/316 [==============================] - 1s 3ms/step - loss: 0.6830 - mean_absolute_error: 0.6319\n",
      "Epoch 6/20\n",
      "316/316 [==============================] - 1s 3ms/step - loss: 0.6686 - mean_absolute_error: 0.6233\n",
      "Epoch 7/20\n",
      "316/316 [==============================] - 1s 3ms/step - loss: 0.6565 - mean_absolute_error: 0.6160\n",
      "Epoch 8/20\n",
      "316/316 [==============================] - 1s 3ms/step - loss: 0.6442 - mean_absolute_error: 0.6098\n",
      "Epoch 9/20\n",
      "316/316 [==============================] - 1s 3ms/step - loss: 0.6337 - mean_absolute_error: 0.6047\n",
      "Epoch 10/20\n",
      "316/316 [==============================] - 1s 3ms/step - loss: 0.6191 - mean_absolute_error: 0.5968\n",
      "Epoch 11/20\n",
      "316/316 [==============================] - 1s 3ms/step - loss: 0.6049 - mean_absolute_error: 0.5892\n",
      "Epoch 12/20\n",
      "316/316 [==============================] - 1s 3ms/step - loss: 0.5918 - mean_absolute_error: 0.5819\n",
      "Epoch 13/20\n",
      "316/316 [==============================] - 1s 3ms/step - loss: 0.5793 - mean_absolute_error: 0.5756\n",
      "Epoch 14/20\n",
      "316/316 [==============================] - 1s 3ms/step - loss: 0.5664 - mean_absolute_error: 0.5683\n",
      "Epoch 15/20\n",
      "316/316 [==============================] - 1s 3ms/step - loss: 0.5517 - mean_absolute_error: 0.5607\n",
      "Epoch 16/20\n",
      "316/316 [==============================] - 1s 3ms/step - loss: 0.5380 - mean_absolute_error: 0.5536\n",
      "Epoch 17/20\n",
      "316/316 [==============================] - 1s 3ms/step - loss: 0.5246 - mean_absolute_error: 0.5471\n",
      "Epoch 18/20\n",
      "316/316 [==============================] - 1s 3ms/step - loss: 0.5111 - mean_absolute_error: 0.5388\n",
      "Epoch 19/20\n",
      "316/316 [==============================] - 1s 3ms/step - loss: 0.4987 - mean_absolute_error: 0.5314\n",
      "Epoch 20/20\n",
      "316/316 [==============================] - 1s 3ms/step - loss: 0.4871 - mean_absolute_error: 0.5257\n"
     ]
    }
   ],
   "source": [
    "opt_adam = tf.keras.optimizers.Adam(learning_rate = 2e-3)\n",
    "\n",
    "model.compile(optimizer= opt_adam, loss= ['mse'], metrics=['mean_absolute_error'])\n",
    "\n",
    "history = model.fit([train_df['userIndex'].values,train_df['movieIndex'].values],train_df['rating'].values,epochs = 20,batch_size = 256, verbose = 1)"
   ]
  },
  {
   "cell_type": "code",
   "execution_count": 914,
   "id": "ea14d6d6",
   "metadata": {},
   "outputs": [
    {
     "data": {
      "image/png": "[encoded data removed]",
      "text/plain": [
       "<Figure size 432x288 with 1 Axes>"
      ]
     },
     "metadata": {
      "needs_background": "light"
     },
     "output_type": "display_data"
    }
   ],
   "source": [
    "import matplotlib.pyplot as plt\n",
    "plt.plot(history.history['loss'], label='Training Loss')\n",
    "plt.plot(history.history['mean_absolute_error'], label='Mean Absolute Error')\n",
    "plt.title('Loss over Time')\n",
    "plt.xlabel('Epoch')\n",
    "plt.ylabel('Loss/MAE')\n",
    "plt.legend()\n",
    "plt.show()"
   ]
  },
  {
   "cell_type": "code",
   "execution_count": 915,
   "id": "2acde6dd",
   "metadata": {},
   "outputs": [
    {
     "name": "stdout",
     "output_type": "stream",
     "text": [
      "606/606 [==============================] - 1s 764us/step - loss: 0.8050 - mean_absolute_error: 0.6758\n"
     ]
    },
    {
     "data": {
      "text/plain": [
       "[0.8049630522727966, 0.6758266687393188]"
      ]
     },
     "execution_count": 915,
     "metadata": {},
     "output_type": "execute_result"
    }
   ],
   "source": [
    "model.evaluate(x=[test_df['userIndex'].values,test_df['movieIndex'].values],y=test_df['rating'].values,verbose=1)"
   ]
  },
  {
   "cell_type": "code",
   "execution_count": 14,
   "id": "29a7fac7",
   "metadata": {},
   "outputs": [
    {
     "name": "stdout",
     "output_type": "stream",
     "text": [
      "281/281 [==============================] - 0s 819us/step\n"
     ]
    }
   ],
   "source": [
    "#get recommended movies for user and save to file\n",
    "movies_df = pd.read_csv(\"../../data/movies.csv\")\n",
    "movie_series = np.arange(num_movies)\n",
    "all_ratings = []\n",
    "for user in range(num_users):\n",
    "    user_series = np.repeat(np.array([user]), num_movies)\n",
    "    predictions = model.predict([user_series, movie_series])\n",
    "    rating_with_movie = []\n",
    "    for i in range(len(predictions)):\n",
    "        rating_with_movie.append([i, predictions[i][0]])\n",
    "    rec_list = sorted(rating_with_movie, key=lambda x: x[1],reverse=True)[:30]\n",
    "    user_id = train_df[train_df['userIndex'] == user]['userId'].values[0]\n",
    "    \n",
    "    for rec in rec_list:\n",
    "        if rec[1] > 5.0:\n",
    "            rec[1] = 5.0\n",
    "        movie_id = train_df[train_df['movieIndex'] == rec[0]]['movieId'].values[0]\n",
    "        rec[0] = movies_df[movies_df['movieId'] == movie_id]['title'].values[0]\n",
    "        rec.insert(0,user_id)\n",
    "    all_ratings.append(rec_list)\n",
    "    \n",
    "import csv \n",
    "with open('user_recommedations.csv', 'w', newline='') as file:\n",
    "    writer = csv.writer(file)\n",
    "    for line in all_ratings:\n",
    "        writer.writerows(line)"
   ]
  },
  {
   "cell_type": "code",
   "execution_count": 15,
   "id": "1a673960",
   "metadata": {},
   "outputs": [],
   "source": [
    "# get similarities for movies\n",
    "import time\n",
    "movie_embeddings = model.layers[3].get_weights()[0]\n",
    "all_sim = []\n",
    "for m1 in range(num_movies):\n",
    "    cosine_sim = []\n",
    "    for m2 in range(num_movies):\n",
    "        e1 = movie_embeddings[m1]\n",
    "        e2 = movie_embeddings[m2]\n",
    "        cosine_sim.append([m2,tf.keras.losses.cosine_similarity(e1, e2).numpy()]) \n",
    "    sorted_sim = sorted(cosine_sim, key=lambda x: x[1])[:21]\n",
    "    for sim in sorted_sim:\n",
    "        movie_id = train_df[train_df['movieIndex'] == sim[0]]['movieId'].values[0]\n",
    "        movie = movies_df[movies_df['movieId'] == movie_id]\n",
    "        sim[0] = movie['title'].values[0]\n",
    "        sim.insert(0, movie_id)\n",
    "        sim.insert(2, movie['genres'].values[0])\n",
    "    all_sim.append(sorted_sim)\n",
    "    \n",
    "\n",
    "with open('similar_movies.csv', 'w', newline='') as file:\n",
    "    writer = csv.writer(file)\n",
    "    for line in all_sim:\n",
    "        writer.writerows(line)"
   ]
  },
  {
   "cell_type": "code",
   "execution_count": 879,
   "id": "64d9e185",
   "metadata": {},
   "outputs": [],
   "source": [
    "#Get movies for new users(cold-start) using genre\n",
    "genres = set()\n",
    "group_by_movie_df = ratings_df.groupby('movieId').agg({'rating':'mean'})\n",
    "genres_combined = movies_df.genres.unique()\n",
    "for genre in genres_combined:\n",
    "    for g in genre.split('|'):\n",
    "        genres.add(g)\n",
    "genres.remove(\"(no genres listed)\")\n",
    "for genre in genres:\n",
    "    movies_with_genre_df = movies_df[movies_df['genres'].str.contains(genre)]\n",
    "    movies_to_recommend = pd.merge(movies_with_genre_df,group_by_movie_df, on='movieId')\n",
    "    sorted_ratings_df = movies_to_recommend.sort_values(['rating'], ascending=[False])\n",
    "    sorted_ratings_df['genre'] = genre\n",
    "    sorted_ratings_df.iloc[:20].to_csv('movies_by_genre.csv', index=False, mode='a')\n",
    "    "
   ]
  }
 ],
 "metadata": {
  "kernelspec": {
   "display_name": "Python 3 (ipykernel)",
   "language": "python",
   "name": "python3"
  },
  "language_info": {
   "codemirror_mode": {
    "name": "ipython",
    "version": 3
   },
   "file_extension": ".py",
   "mimetype": "text/x-python",
   "name": "python",
   "nbconvert_exporter": "python",
   "pygments_lexer": "ipython3",
   "version": "3.9.12"
  }
 },
 "nbformat": 4,
 "nbformat_minor": 5
}
